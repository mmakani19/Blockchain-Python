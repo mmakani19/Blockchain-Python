{
 "cells": [
  {
   "cell_type": "code",
   "execution_count": 159,
   "metadata": {},
   "outputs": [],
   "source": [
    "# Import Dependencies\n",
    "\n",
    "import subprocess \n",
    "import json\n",
    "from dotenv import load_dotenv\n",
    "import os"
   ]
  },
  {
   "cell_type": "code",
   "execution_count": 160,
   "metadata": {},
   "outputs": [],
   "source": [
    "# set and load environment variable\n",
    "load_dotenv\n",
    "mnemonic = os.getenv('MNEMONIC')"
   ]
  },
  {
   "cell_type": "code",
   "execution_count": 161,
   "metadata": {},
   "outputs": [],
   "source": [
    "# Import Bit and Web3 dependencies, import from constant.py \n",
    "\n",
    "from bit import *\n",
    "from web3 import Web3\n",
    "from eth_account import Account \n",
    "from constants import *\n",
    "from bit import Key, PrivateKey, PrivateKeyTestnet\n",
    "from bit.network import NetworkAPI\n",
    "w3 = Web3(Web3.HTTPProvider(\"http://127.0.0.1.8545\"))"
   ]
  },
  {
   "cell_type": "code",
   "execution_count": 162,
   "metadata": {},
   "outputs": [],
   "source": [
    "#define derive_wallet function\n",
    "def derive_wallets(mnemonic, coin, numderive):\n",
    "    command = f'php ./hd-wallet-derive/hd-wallet-derive.php -g --mnemonic=\"{mnemonic}\" --numderive=\"{numderive}\" --coin=\"{coin}\" --format=json'  \n",
    "    p = subprocess.Popen(command, stdout=subprocess.PIPE, shell=True)\n",
    "    \n",
    "    (output, err) = p.communicate()\n",
    "   \n",
    "    keys = json.loads(output)\n",
    "    return  keys"
   ]
  },
  {
   "cell_type": "code",
   "execution_count": 163,
   "metadata": {},
   "outputs": [],
   "source": [
    "# Create coins dictionary that store outputs from derive_wallets\n",
    "coins = {'eth':derive_wallets(mnemonic=mnemonic,coin=ETH,numderive=3),'btc-test': derive_wallets(mnemonic=mnemonic,coin=BTCTEST,numderive=3)}\n",
    "\n",
    "btc_privatekey = coins['btc-test'][0]['privkey']\n",
    "eth_privatekey = coins['eth'][0]['privkey']"
   ]
  },
  {
   "cell_type": "code",
   "execution_count": 164,
   "metadata": {},
   "outputs": [
    {
     "name": "stdout",
     "output_type": "stream",
     "text": [
      "{\n",
      "    \"btc-test\": [\n",
      "        {\n",
      "            \"address\": \"mkwqRYLAfeoMJnnb5A9WegujdggyBeEPGD\",\n",
      "            \"index\": 0,\n",
      "            \"path\": \"m/44'/1'/0'/0/0\",\n",
      "            \"privkey\": \"cUMT7ptJgxrwSm9s5zSUCKUhSNVq1UC9v31vgoSusyukAciNMdDt\",\n",
      "            \"pubkey\": \"02dcb7a11c7172966e58679c0cb207bfb95d119cc55f9fb318d0a522aaff5b9577\",\n",
      "            \"pubkeyhash\": \"3b8d4adb98c1922686a0b9b3f10ee0f1ef7a2eb8\",\n",
      "            \"xprv\": \"tprv8khhNkzGYHzyhzgCwAKEf4xVvkBbV2vWqBQpybEMhGHivv3WgwhnjdCguDwQ1ujRnN5JWEM8q8nE8zjHSrthSTvMcxb6V575s5x2zT3q1Pk\",\n",
      "            \"xpub\": \"tpubDHPjXB2WgfgebThzpoyq4UccVmhXeN7RQV1cG7Gf7Y67mQJHKLXNv7pZ5M2WvzFPpQyVgMB9znNEFMefiFvgn7r72wMott5xBJksEZUfWX5\"\n",
      "        },\n",
      "        {\n",
      "            \"address\": \"mmUQuAvBYqVpKzayhaYvnJe9VuwkRdSWPu\",\n",
      "            \"index\": 1,\n",
      "            \"path\": \"m/44'/1'/0'/0/1\",\n",
      "            \"privkey\": \"cVj1Q51vqgtBEYokpcb6RtjMwVbAsaCmrQRyjMTHFm5rGoziYe44\",\n",
      "            \"pubkey\": \"024fca815b769b3e6920eb31081de336536e0a0dcba4955b6d7773b8acc205e0b4\",\n",
      "            \"pubkeyhash\": \"4155b748ac4f668e327a8b7a7c928241ba09eb85\",\n",
      "            \"xprv\": \"tprv8khhNkzGYHzyj6e6K8iKuPTCw6YLNRA3tRKCphDT4Yis5AKoPbwFLH7zqay3WqqcsnHCwJZedosPPAXcrHehSKV7MBy57KVPQxyQ3tHyq4g\",\n",
      "            \"xpub\": \"tpubDHPjXB2WgfgecZftCnNvJo7KW84GXkLxTiuz7DFkUpXFueaa1zkqWmjs1gg5EbtryQSJ81NQyoDwvXGWvis4AtWXeZXh9juHNWhUCGZwfRJ\"\n",
      "        },\n",
      "        {\n",
      "            \"address\": \"mxYAxY575hg56rGtU3n6754GfqCKRxzvep\",\n",
      "            \"index\": 2,\n",
      "            \"path\": \"m/44'/1'/0'/0/2\",\n",
      "            \"privkey\": \"cMzhL3wx92ETkcCDyTt8ouz8pXQnp7RBpE3pHu1637Sn16qVW9vo\",\n",
      "            \"pubkey\": \"03bdfba2cebb0d9fa135451ec068d05e6ddf07d8c79c13afa46b4658b3942cf087\",\n",
      "            \"pubkeyhash\": \"bab5200f7b800fc1fda9a7449df8b99064501931\",\n",
      "            \"xprv\": \"tprv8khhNkzGYHzymedp2vc5YrDY9Wo8pZHMTSMLVs5QX2JRV3iaHkTveCATn7hwZehVuu3HV986zzRHULnTF3dUB4gior6YYpv39vDdGmZtvo5\",\n",
      "            \"xpub\": \"tpubDHPjXB2Wgfgef7fbvaGfxFseiYK4ytUG2jx7nP7hwJ6pKXyLv9HWpgnKxHwpFx9yRGdHH7nRWwNVZJ39Neu7znX2LCPrWVgVDEN53WphdpV\"\n",
      "        }\n",
      "    ],\n",
      "    \"eth\": [\n",
      "        {\n",
      "            \"address\": \"0x02194a55DDA1B029F70220D53f099F38c629ab36\",\n",
      "            \"index\": 0,\n",
      "            \"path\": \"m/44'/60'/0'/0/0\",\n",
      "            \"privkey\": \"0xd36d0f9ff2f6dc80208cd19e0b7d939f11bd1a63d10c38cdc1c58f4dbbc95edc\",\n",
      "            \"pubkey\": \"03b21e2e1bc0b74c298d113c5c305c80cc76e67c4ff29e9b31028ea17328f8bba8\",\n",
      "            \"pubkeyhash\": \"a85e006b705f905c3e0e82485a33bf5bae8da52e\",\n",
      "            \"xprv\": \"xprvA2UAbkzcn2ntbeUWWeryfF3uDhgNm4dauGWnvnDix6CsvCzQuvLXjSRM7JTtTTWK9sX95nFVJwYhVGxXqPToYqhz27ChLeVmsCQQXUKHxdM\",\n",
      "            \"xpub\": \"xpub6FTX1GXWcQMBp8YycgPz2NzdmjWsAXMSGVSPjAdLWRjro1KZTTenHEjpxbBjGGK7wisPZe4htBommydMu8aPzi3Y94xHEdcN3ANiCP23RiY\"\n",
      "        },\n",
      "        {\n",
      "            \"address\": \"0x3dFb64A5AdAe2aDece2E252FE5E889d61Ef75122\",\n",
      "            \"index\": 1,\n",
      "            \"path\": \"m/44'/60'/0'/0/1\",\n",
      "            \"privkey\": \"0x81b180541f1ae73a48976095a58a342611fcedac9c00758510c0f3c0c63e5710\",\n",
      "            \"pubkey\": \"03b64da52e7b23d110002752118ecc97052e6637d916794bef1eaac7bba0a54d3b\",\n",
      "            \"pubkeyhash\": \"5d352e57cab65ca61793104f70e4b0f4543527aa\",\n",
      "            \"xprv\": \"xprvA2UAbkzcn2ntezNrVAWRNF7yPRSuWDGEu7CdrwoNhYEjuJdeqhFC9zpZ9Uomp4Tuzf47cQ661EzPLErPP9nSvAHoboLqYTTpNd1xfeFGuUP\",\n",
      "            \"xpub\": \"xpub6FTX1GXWcQMBsUTKbC3RjP4hwTHPufz6GL8EfLCzFsmin6xoPEZSho92znBTHFATi3RFHmhJLpwwR7P9KXcN9f4jAs4YUHRkkyg7spW5kZe\"\n",
      "        },\n",
      "        {\n",
      "            \"address\": \"0xdeA9cE1d814f6dAaEe900D864B7f1974Ab2f0A44\",\n",
      "            \"index\": 2,\n",
      "            \"path\": \"m/44'/60'/0'/0/2\",\n",
      "            \"privkey\": \"0x815b3bc011096f513a633ed35581e057423680405381db490576d48b95e1ab15\",\n",
      "            \"pubkey\": \"03e58f0070091a989dbede3de95458ddd960381f1846f4414dcc896edc04907735\",\n",
      "            \"pubkeyhash\": \"f1ba997dd9013d7140ac9367cf66ed197c1413b6\",\n",
      "            \"xprv\": \"xprvA2UAbkzcn2ntgZeXYbMHsrr7QnjdtoitxZDqhxkueuRiE6Eb1xqHUjriskG2mrFftCL29AUAj85B22PtvpSqspSWzLp9tzAQ9CsVKiW84m6\",\n",
      "            \"xpub\": \"xpub6FTX1GXWcQMBu3izectJEznqxpa8JGSkKn9SWMAXDExh6tZjZW9Y2YBCj3zfvXnQGoSrYoft3EGeXcURDCp9Mm9Rg4S3hug3GW2UeTFcFsQ\"\n",
      "        }\n",
      "    ]\n",
      "}\n"
     ]
    }
   ],
   "source": [
    "print(json.dumps(coins, indent=4, sort_keys=True))"
   ]
  },
  {
   "cell_type": "code",
   "execution_count": 165,
   "metadata": {},
   "outputs": [],
   "source": [
    "# Create priv_key_to_account function \n",
    "\n",
    "def priv_key_to_account(coin, priv_key):\n",
    "    \n",
    "    if coin == ETH:\n",
    "        return Account.privateKeyToAccount(priv_key)\n",
    "    if coin == BTCTEST:\n",
    "        return PrivateKeyTestnet(priv_key)\n",
    "    \n",
    "eth_account = priv_key_to_account(ETH,eth_privatekey)\n",
    "btc_account = priv_key_to_account(BTCTEST,btc_privatekey)\n"
   ]
  },
  {
   "cell_type": "code",
   "execution_count": 166,
   "metadata": {},
   "outputs": [
    {
     "name": "stdout",
     "output_type": "stream",
     "text": [
      "<eth_account.signers.local.LocalAccount object at 0x000001FF6EA7ADC8>\n",
      "<PrivateKeyTestnet: mkwqRYLAfeoMJnnb5A9WegujdggyBeEPGD>\n"
     ]
    }
   ],
   "source": [
    "print(eth_account)\n",
    "print(btc_account)"
   ]
  },
  {
   "cell_type": "code",
   "execution_count": 167,
   "metadata": {},
   "outputs": [],
   "source": [
    "# Create create_tx function \n",
    "\n",
    "def create_tx(coin, account, recipient, amount):\n",
    "    \n",
    "    global tx_data\n",
    "    if coin ==ETH:\n",
    "        gasEstimate = w3.eth.estimateGas(\n",
    "            {\"from\": account.address, \"to\": recipient, \"value\": amount}\n",
    "        )\n",
    "        tx_data = {\n",
    "            \"to\": recipient,\n",
    "            \"from\": account.address,\n",
    "            \"value\": amount,\n",
    "            \"gasPrice\": w3.eth.gasPrice,\n",
    "            \"gas\": gasEstimate,\n",
    "            \"nonce\": w3.eth.getTransactionCount(account.address)\n",
    "        }\n",
    "        return tx_data\n",
    "\n",
    "    if coin == BTCTEST:\n",
    "        return PrivateKeyTestnet.prepare_transaction(account.address, [(recipient, amount, BTC)])"
   ]
  },
  {
   "cell_type": "code",
   "execution_count": 168,
   "metadata": {},
   "outputs": [],
   "source": [
    "# Create send_tx function \n",
    "\n",
    "def send_tx(coin, account, recipient, amount):\n",
    "    \n",
    "    if coin =='ETH':\n",
    "        sign_tx_eth = account.sign_transaction(tx_eth)\n",
    "        result = w3.eth.sendRawTransaction(sign_tx_eth.rawTransaction)\n",
    "        tx_eth = create_tx(coin,account, recipient, amount)\n",
    "        \n",
    "        print(result.hex())\n",
    "        return result.hex()\n",
    "    else:\n",
    "        tx_btctest= create_tx(coin,account,recipient,amount)\n",
    "        sign_tx_btctest = account.sign_transaction(tx_btctest)\n",
    "                \n",
    "        from bit.network import NetworkAPI\n",
    "        NetworkAPI.broadcast_tx_testnet(sign_tx_btctest)       \n",
    "        return sign_tx_btctest"
   ]
  },
  {
   "cell_type": "code",
   "execution_count": 169,
   "metadata": {},
   "outputs": [
    {
     "data": {
      "text/plain": [
       "'{\"unspents\":[{\"amount\":6724173,\"confirmations\":1,\"script\":\"76a9143b8d4adb98c1922686a0b9b3f10ee0f1ef7a2eb888ac\",\"txid\":\"6799277bdd72c427c4595335ba498cb896ecb5e66780225c4b6d5e181d08181f\",\"txindex\":1,\"type\":\"p2pkh\",\"vsize\":148,\"segwit\":false,\"sequence\":4294967295}],\"outputs\":[[\"mkwqRYLAfeoMJnnb5A9WegujdggyBeEPGD\",10000],[\"mkwqRYLAfeoMJnnb5A9WegujdggyBeEPGD\",6691121]]}'"
      ]
     },
     "execution_count": 169,
     "metadata": {},
     "output_type": "execute_result"
    }
   ],
   "source": [
    "create_tx(BTCTEST,btc_account,'mkwqRYLAfeoMJnnb5A9WegujdggyBeEPGD',0.0001)"
   ]
  },
  {
   "cell_type": "code",
   "execution_count": 170,
   "metadata": {},
   "outputs": [
    {
     "data": {
      "text/plain": [
       "'01000000011f18081d185e6d4b5c228067e6b5ec96b88c49ba355359c427c472dd7b279967010000006a47304402202c511bf6e54f6e3b2e6e1c8d14526cf40c50ad2df1f03d8b7be0f6b03855630202203e1db1e123a36d38d71681ea6913fb96d415af73f6c68f88e7be454cc1cfc610012102dcb7a11c7172966e58679c0cb207bfb95d119cc55f9fb318d0a522aaff5b9577ffffffff0210270000000000001976a9144155b748ac4f668e327a8b7a7c928241ba09eb8588ac31196600000000001976a9143b8d4adb98c1922686a0b9b3f10ee0f1ef7a2eb888ac00000000'"
      ]
     },
     "execution_count": 170,
     "metadata": {},
     "output_type": "execute_result"
    }
   ],
   "source": [
    "send_tx(BTCTEST,btc_account,'mmUQuAvBYqVpKzayhaYvnJe9VuwkRdSWPu',0.0001)"
   ]
  },
  {
   "cell_type": "code",
   "execution_count": 171,
   "metadata": {},
   "outputs": [],
   "source": [
    "from web3.middleware import geth_poa_middleware\n",
    "\n",
    "w3.middleware_onion.inject(geth_poa_middleware, layer=0)"
   ]
  },
  {
   "cell_type": "code",
   "execution_count": 172,
   "metadata": {},
   "outputs": [],
   "source": [
    "from web3 import Web3, HTTPProvider"
   ]
  },
  {
   "cell_type": "code",
   "execution_count": null,
   "metadata": {},
   "outputs": [],
   "source": [
    "create_tx(ETH,eth_account,\"0xe25A64ce1B66BAEBaBbc233E9b43B10E3CEaE0bF\", 1000)"
   ]
  },
  {
   "cell_type": "code",
   "execution_count": null,
   "metadata": {},
   "outputs": [],
   "source": [
    "send_tx(ETH, eth_account,\"0xe25A64ce1B66BAEBaBbc233E9b43B10E3CEaE0bF\", 1000)"
   ]
  },
  {
   "cell_type": "code",
   "execution_count": 177,
   "metadata": {},
   "outputs": [],
   "source": [
    "# Note: ET transaction is pending in MyCrypto and could not be executed through Python script"
   ]
  },
  {
   "cell_type": "code",
   "execution_count": null,
   "metadata": {},
   "outputs": [],
   "source": []
  }
 ],
 "metadata": {
  "kernelspec": {
   "display_name": "Python 3",
   "language": "python",
   "name": "python3"
  },
  "language_info": {
   "codemirror_mode": {
    "name": "ipython",
    "version": 3
   },
   "file_extension": ".py",
   "mimetype": "text/x-python",
   "name": "python",
   "nbconvert_exporter": "python",
   "pygments_lexer": "ipython3",
   "version": "3.7.9"
  }
 },
 "nbformat": 4,
 "nbformat_minor": 4
}
